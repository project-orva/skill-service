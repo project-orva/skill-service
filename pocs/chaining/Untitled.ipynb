{
 "cells": [
  {
   "cell_type": "code",
   "execution_count": null,
   "metadata": {},
   "outputs": [],
   "source": [
    "'''\n",
    "spitballn some ideas here.. basically the concept here is going to be detecting multiple commands within\n",
    "a single statement, e.g should detect \"Could you add 12 to the max temperature in London\" as 2 seperate commands of\n",
    "[\"add 12\", \"max temperature in London\"]. \n",
    "\n",
    "# approach 1\n",
    "\n",
    "NN! work -> POS tag -> vec\n",
    "\n",
    "input -> vecs (dynamic)\n",
    "output -> pridict val that it is a command\n",
    "\n",
    "# 2\n",
    "input -> predict of last word, vec of current word\n",
    "output -> predict of current word\n",
    "'''"
   ]
  },
  {
   "cell_type": "code",
   "execution_count": 7,
   "metadata": {},
   "outputs": [
    {
     "name": "stderr",
     "output_type": "stream",
     "text": [
      "[nltk_data] Downloading package punkt to /Users/gross/nltk_data...\n",
      "[nltk_data]   Package punkt is already up-to-date!\n",
      "[nltk_data] Downloading package averaged_perceptron_tagger to\n",
      "[nltk_data]     /Users/gross/nltk_data...\n",
      "[nltk_data]   Unzipping taggers/averaged_perceptron_tagger.zip.\n"
     ]
    },
    {
     "data": {
      "text/plain": [
       "True"
      ]
     },
     "execution_count": 7,
     "metadata": {},
     "output_type": "execute_result"
    }
   ],
   "source": [
    "import nltk\n",
    "\n",
    "nltk.download('punkt')\n",
    "nltk.download('averaged_perceptron_tagger')"
   ]
  },
  {
   "cell_type": "code",
   "execution_count": null,
   "metadata": {},
   "outputs": [],
   "source": [
    "CC\n",
    "CD\n",
    "DT\n",
    "EX\n",
    "FW\n",
    "IN\n",
    "JJ\n",
    "JJR\n",
    "JJS\n",
    "LS\n",
    "MD\n",
    "NN\n",
    "NNS\n",
    "NNP\tProper noun, singular\n",
    "NNPS\tProper noun, plural\n",
    "PDT\tPredeterminer\n",
    "POS\tPossessive ending\n",
    "PRP\tPersonal pronoun\n",
    "PRP$\tPossessive pronoun\n",
    "RB\tAdverb\n",
    "RBR\tAdverb, comparative\n",
    "RBS\tAdverb, superlative\n",
    "RP\tParticle\n",
    "SYM\tSymbol\n",
    "TO\tto\n",
    "UH\tInterjection\n",
    "VB\tVerb, base form\n",
    "VBD\tVerb, past tense\n",
    "VBG\tVerb, gerund or present participle\n",
    "VBN\tVerb, past participle\n",
    "VBP\tVerb, non-3rd person singular present\n",
    "VBZ\tVerb, 3rd person singular present\n",
    "WDT\tWh-determiner\n",
    "WP\tWh-pronoun\n",
    "WP$\tPossessive wh-pronoun\n",
    "WRB\tWh-adverb"
   ]
  },
  {
   "cell_type": "code",
   "execution_count": 8,
   "metadata": {},
   "outputs": [
    {
     "data": {
      "text/plain": [
       "[('Could', 'MD'),\n",
       " ('you', 'PRP'),\n",
       " ('add', 'VB'),\n",
       " ('12', 'CD'),\n",
       " ('to', 'TO'),\n",
       " ('the', 'DT'),\n",
       " ('max', 'NN'),\n",
       " ('temperature', 'NN'),\n",
       " ('in', 'IN'),\n",
       " ('London', 'NNP')]"
      ]
     },
     "execution_count": 8,
     "metadata": {},
     "output_type": "execute_result"
    }
   ],
   "source": [
    "ex = \"Could you add 12 to the max temperature in London\"\n",
    "tokens = nltk.word_tokenize(ex)\n",
    "\n",
    "tags = nltk.pos_tag(tokens)\n",
    "mem = []\n",
    "\n",
    "for i in range(len(tags)):\n",
    "    lst = 0 if i == 0 else mem[i - 1]\n",
    "    \n",
    "    "
   ]
  },
  {
   "cell_type": "code",
   "execution_count": null,
   "metadata": {},
   "outputs": [],
   "source": []
  }
 ],
 "metadata": {
  "kernelspec": {
   "display_name": "Python 3",
   "language": "python",
   "name": "python3"
  },
  "language_info": {
   "codemirror_mode": {
    "name": "ipython",
    "version": 3
   },
   "file_extension": ".py",
   "mimetype": "text/x-python",
   "name": "python",
   "nbconvert_exporter": "python",
   "pygments_lexer": "ipython3",
   "version": "3.7.7"
  }
 },
 "nbformat": 4,
 "nbformat_minor": 4
}
